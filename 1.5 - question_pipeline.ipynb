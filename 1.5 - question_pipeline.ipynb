{
 "cells": [
  {
   "cell_type": "markdown",
   "metadata": {},
   "source": [
    "Make sure the transformer and torch modules are installed. I'm assuming that we're running under venv so it's ok to install modules. If this is not the case for you, install these whatever your custom."
   ]
  },
  {
   "cell_type": "code",
   "execution_count": 1,
   "metadata": {},
   "outputs": [
    {
     "name": "stdout",
     "output_type": "stream",
     "text": [
      "Requirement already satisfied: transformers in ./myvenv/lib/python3.12/site-packages (4.41.2)\n",
      "Requirement already satisfied: filelock in ./myvenv/lib/python3.12/site-packages (from transformers) (3.14.0)\n",
      "Requirement already satisfied: huggingface-hub<1.0,>=0.23.0 in ./myvenv/lib/python3.12/site-packages (from transformers) (0.23.2)\n",
      "Requirement already satisfied: numpy>=1.17 in ./myvenv/lib/python3.12/site-packages (from transformers) (1.26.4)\n",
      "Requirement already satisfied: packaging>=20.0 in ./myvenv/lib/python3.12/site-packages (from transformers) (24.0)\n",
      "Requirement already satisfied: pyyaml>=5.1 in ./myvenv/lib/python3.12/site-packages (from transformers) (6.0.1)\n",
      "Requirement already satisfied: regex!=2019.12.17 in ./myvenv/lib/python3.12/site-packages (from transformers) (2024.5.15)\n",
      "Requirement already satisfied: requests in ./myvenv/lib/python3.12/site-packages (from transformers) (2.32.3)\n",
      "Requirement already satisfied: tokenizers<0.20,>=0.19 in ./myvenv/lib/python3.12/site-packages (from transformers) (0.19.1)\n",
      "Requirement already satisfied: safetensors>=0.4.1 in ./myvenv/lib/python3.12/site-packages (from transformers) (0.4.3)\n",
      "Requirement already satisfied: tqdm>=4.27 in ./myvenv/lib/python3.12/site-packages (from transformers) (4.66.4)\n",
      "Requirement already satisfied: fsspec>=2023.5.0 in ./myvenv/lib/python3.12/site-packages (from huggingface-hub<1.0,>=0.23.0->transformers) (2024.5.0)\n",
      "Requirement already satisfied: typing-extensions>=3.7.4.3 in ./myvenv/lib/python3.12/site-packages (from huggingface-hub<1.0,>=0.23.0->transformers) (4.12.0)\n",
      "Requirement already satisfied: charset-normalizer<4,>=2 in ./myvenv/lib/python3.12/site-packages (from requests->transformers) (3.3.2)\n",
      "Requirement already satisfied: idna<4,>=2.5 in ./myvenv/lib/python3.12/site-packages (from requests->transformers) (3.7)\n",
      "Requirement already satisfied: urllib3<3,>=1.21.1 in ./myvenv/lib/python3.12/site-packages (from requests->transformers) (2.2.1)\n",
      "Requirement already satisfied: certifi>=2017.4.17 in ./myvenv/lib/python3.12/site-packages (from requests->transformers) (2024.2.2)\n",
      "Requirement already satisfied: torch in ./myvenv/lib/python3.12/site-packages (2.3.0)\n",
      "Requirement already satisfied: filelock in ./myvenv/lib/python3.12/site-packages (from torch) (3.14.0)\n",
      "Requirement already satisfied: typing-extensions>=4.8.0 in ./myvenv/lib/python3.12/site-packages (from torch) (4.12.0)\n",
      "Requirement already satisfied: sympy in ./myvenv/lib/python3.12/site-packages (from torch) (1.12.1)\n",
      "Requirement already satisfied: networkx in ./myvenv/lib/python3.12/site-packages (from torch) (3.3)\n",
      "Requirement already satisfied: jinja2 in ./myvenv/lib/python3.12/site-packages (from torch) (3.1.4)\n",
      "Requirement already satisfied: fsspec in ./myvenv/lib/python3.12/site-packages (from torch) (2024.5.0)\n",
      "Requirement already satisfied: MarkupSafe>=2.0 in ./myvenv/lib/python3.12/site-packages (from jinja2->torch) (2.1.5)\n",
      "Requirement already satisfied: mpmath<1.4.0,>=1.1.0 in ./myvenv/lib/python3.12/site-packages (from sympy->torch) (1.3.0)\n",
      "Requirement already satisfied: jupyter in ./myvenv/lib/python3.12/site-packages (1.0.0)\n",
      "Requirement already satisfied: notebook in ./myvenv/lib/python3.12/site-packages (from jupyter) (7.2.0)\n",
      "Requirement already satisfied: qtconsole in ./myvenv/lib/python3.12/site-packages (from jupyter) (5.5.2)\n",
      "Requirement already satisfied: jupyter-console in ./myvenv/lib/python3.12/site-packages (from jupyter) (6.6.3)\n",
      "Requirement already satisfied: nbconvert in ./myvenv/lib/python3.12/site-packages (from jupyter) (7.16.4)\n",
      "Requirement already satisfied: ipykernel in ./myvenv/lib/python3.12/site-packages (from jupyter) (6.29.4)\n",
      "Requirement already satisfied: ipywidgets in ./myvenv/lib/python3.12/site-packages (from jupyter) (8.1.3)\n",
      "Requirement already satisfied: appnope in ./myvenv/lib/python3.12/site-packages (from ipykernel->jupyter) (0.1.4)\n",
      "Requirement already satisfied: comm>=0.1.1 in ./myvenv/lib/python3.12/site-packages (from ipykernel->jupyter) (0.2.2)\n",
      "Requirement already satisfied: debugpy>=1.6.5 in ./myvenv/lib/python3.12/site-packages (from ipykernel->jupyter) (1.8.1)\n",
      "Requirement already satisfied: ipython>=7.23.1 in ./myvenv/lib/python3.12/site-packages (from ipykernel->jupyter) (8.25.0)\n",
      "Requirement already satisfied: jupyter-client>=6.1.12 in ./myvenv/lib/python3.12/site-packages (from ipykernel->jupyter) (8.6.2)\n",
      "Requirement already satisfied: jupyter-core!=5.0.*,>=4.12 in ./myvenv/lib/python3.12/site-packages (from ipykernel->jupyter) (5.7.2)\n",
      "Requirement already satisfied: matplotlib-inline>=0.1 in ./myvenv/lib/python3.12/site-packages (from ipykernel->jupyter) (0.1.7)\n",
      "Requirement already satisfied: nest-asyncio in ./myvenv/lib/python3.12/site-packages (from ipykernel->jupyter) (1.6.0)\n",
      "Requirement already satisfied: packaging in ./myvenv/lib/python3.12/site-packages (from ipykernel->jupyter) (24.0)\n",
      "Requirement already satisfied: psutil in ./myvenv/lib/python3.12/site-packages (from ipykernel->jupyter) (5.9.8)\n",
      "Requirement already satisfied: pyzmq>=24 in ./myvenv/lib/python3.12/site-packages (from ipykernel->jupyter) (26.0.3)\n",
      "Requirement already satisfied: tornado>=6.1 in ./myvenv/lib/python3.12/site-packages (from ipykernel->jupyter) (6.4)\n",
      "Requirement already satisfied: traitlets>=5.4.0 in ./myvenv/lib/python3.12/site-packages (from ipykernel->jupyter) (5.14.3)\n",
      "Requirement already satisfied: widgetsnbextension~=4.0.11 in ./myvenv/lib/python3.12/site-packages (from ipywidgets->jupyter) (4.0.11)\n",
      "Requirement already satisfied: jupyterlab-widgets~=3.0.11 in ./myvenv/lib/python3.12/site-packages (from ipywidgets->jupyter) (3.0.11)\n",
      "Requirement already satisfied: prompt-toolkit>=3.0.30 in ./myvenv/lib/python3.12/site-packages (from jupyter-console->jupyter) (3.0.45)\n",
      "Requirement already satisfied: pygments in ./myvenv/lib/python3.12/site-packages (from jupyter-console->jupyter) (2.18.0)\n",
      "Requirement already satisfied: beautifulsoup4 in ./myvenv/lib/python3.12/site-packages (from nbconvert->jupyter) (4.12.3)\n",
      "Requirement already satisfied: bleach!=5.0.0 in ./myvenv/lib/python3.12/site-packages (from nbconvert->jupyter) (6.1.0)\n",
      "Requirement already satisfied: defusedxml in ./myvenv/lib/python3.12/site-packages (from nbconvert->jupyter) (0.7.1)\n",
      "Requirement already satisfied: jinja2>=3.0 in ./myvenv/lib/python3.12/site-packages (from nbconvert->jupyter) (3.1.4)\n",
      "Requirement already satisfied: jupyterlab-pygments in ./myvenv/lib/python3.12/site-packages (from nbconvert->jupyter) (0.3.0)\n",
      "Requirement already satisfied: markupsafe>=2.0 in ./myvenv/lib/python3.12/site-packages (from nbconvert->jupyter) (2.1.5)\n",
      "Requirement already satisfied: mistune<4,>=2.0.3 in ./myvenv/lib/python3.12/site-packages (from nbconvert->jupyter) (3.0.2)\n",
      "Requirement already satisfied: nbclient>=0.5.0 in ./myvenv/lib/python3.12/site-packages (from nbconvert->jupyter) (0.10.0)\n",
      "Requirement already satisfied: nbformat>=5.7 in ./myvenv/lib/python3.12/site-packages (from nbconvert->jupyter) (5.10.4)\n",
      "Requirement already satisfied: pandocfilters>=1.4.1 in ./myvenv/lib/python3.12/site-packages (from nbconvert->jupyter) (1.5.1)\n",
      "Requirement already satisfied: tinycss2 in ./myvenv/lib/python3.12/site-packages (from nbconvert->jupyter) (1.3.0)\n",
      "Requirement already satisfied: jupyter-server<3,>=2.4.0 in ./myvenv/lib/python3.12/site-packages (from notebook->jupyter) (2.14.1)\n",
      "Requirement already satisfied: jupyterlab-server<3,>=2.27.1 in ./myvenv/lib/python3.12/site-packages (from notebook->jupyter) (2.27.2)\n",
      "Requirement already satisfied: jupyterlab<4.3,>=4.2.0 in ./myvenv/lib/python3.12/site-packages (from notebook->jupyter) (4.2.1)\n",
      "Requirement already satisfied: notebook-shim<0.3,>=0.2 in ./myvenv/lib/python3.12/site-packages (from notebook->jupyter) (0.2.4)\n",
      "Requirement already satisfied: qtpy>=2.4.0 in ./myvenv/lib/python3.12/site-packages (from qtconsole->jupyter) (2.4.1)\n",
      "Requirement already satisfied: six>=1.9.0 in ./myvenv/lib/python3.12/site-packages (from bleach!=5.0.0->nbconvert->jupyter) (1.16.0)\n",
      "Requirement already satisfied: webencodings in ./myvenv/lib/python3.12/site-packages (from bleach!=5.0.0->nbconvert->jupyter) (0.5.1)\n",
      "Requirement already satisfied: decorator in ./myvenv/lib/python3.12/site-packages (from ipython>=7.23.1->ipykernel->jupyter) (5.1.1)\n",
      "Requirement already satisfied: jedi>=0.16 in ./myvenv/lib/python3.12/site-packages (from ipython>=7.23.1->ipykernel->jupyter) (0.19.1)\n",
      "Requirement already satisfied: stack-data in ./myvenv/lib/python3.12/site-packages (from ipython>=7.23.1->ipykernel->jupyter) (0.6.3)\n",
      "Requirement already satisfied: pexpect>4.3 in ./myvenv/lib/python3.12/site-packages (from ipython>=7.23.1->ipykernel->jupyter) (4.9.0)\n",
      "Requirement already satisfied: python-dateutil>=2.8.2 in ./myvenv/lib/python3.12/site-packages (from jupyter-client>=6.1.12->ipykernel->jupyter) (2.9.0.post0)\n",
      "Requirement already satisfied: platformdirs>=2.5 in ./myvenv/lib/python3.12/site-packages (from jupyter-core!=5.0.*,>=4.12->ipykernel->jupyter) (4.2.2)\n",
      "Requirement already satisfied: anyio>=3.1.0 in ./myvenv/lib/python3.12/site-packages (from jupyter-server<3,>=2.4.0->notebook->jupyter) (4.4.0)\n",
      "Requirement already satisfied: argon2-cffi>=21.1 in ./myvenv/lib/python3.12/site-packages (from jupyter-server<3,>=2.4.0->notebook->jupyter) (23.1.0)\n",
      "Requirement already satisfied: jupyter-events>=0.9.0 in ./myvenv/lib/python3.12/site-packages (from jupyter-server<3,>=2.4.0->notebook->jupyter) (0.10.0)\n",
      "Requirement already satisfied: jupyter-server-terminals>=0.4.4 in ./myvenv/lib/python3.12/site-packages (from jupyter-server<3,>=2.4.0->notebook->jupyter) (0.5.3)\n",
      "Requirement already satisfied: overrides>=5.0 in ./myvenv/lib/python3.12/site-packages (from jupyter-server<3,>=2.4.0->notebook->jupyter) (7.7.0)\n",
      "Requirement already satisfied: prometheus-client>=0.9 in ./myvenv/lib/python3.12/site-packages (from jupyter-server<3,>=2.4.0->notebook->jupyter) (0.20.0)\n",
      "Requirement already satisfied: send2trash>=1.8.2 in ./myvenv/lib/python3.12/site-packages (from jupyter-server<3,>=2.4.0->notebook->jupyter) (1.8.3)\n",
      "Requirement already satisfied: terminado>=0.8.3 in ./myvenv/lib/python3.12/site-packages (from jupyter-server<3,>=2.4.0->notebook->jupyter) (0.18.1)\n",
      "Requirement already satisfied: websocket-client>=1.7 in ./myvenv/lib/python3.12/site-packages (from jupyter-server<3,>=2.4.0->notebook->jupyter) (1.8.0)\n",
      "Requirement already satisfied: async-lru>=1.0.0 in ./myvenv/lib/python3.12/site-packages (from jupyterlab<4.3,>=4.2.0->notebook->jupyter) (2.0.4)\n",
      "Requirement already satisfied: httpx>=0.25.0 in ./myvenv/lib/python3.12/site-packages (from jupyterlab<4.3,>=4.2.0->notebook->jupyter) (0.27.0)\n",
      "Requirement already satisfied: jupyter-lsp>=2.0.0 in ./myvenv/lib/python3.12/site-packages (from jupyterlab<4.3,>=4.2.0->notebook->jupyter) (2.2.5)\n",
      "Requirement already satisfied: babel>=2.10 in ./myvenv/lib/python3.12/site-packages (from jupyterlab-server<3,>=2.27.1->notebook->jupyter) (2.15.0)\n",
      "Requirement already satisfied: json5>=0.9.0 in ./myvenv/lib/python3.12/site-packages (from jupyterlab-server<3,>=2.27.1->notebook->jupyter) (0.9.25)\n",
      "Requirement already satisfied: jsonschema>=4.18.0 in ./myvenv/lib/python3.12/site-packages (from jupyterlab-server<3,>=2.27.1->notebook->jupyter) (4.22.0)\n",
      "Requirement already satisfied: requests>=2.31 in ./myvenv/lib/python3.12/site-packages (from jupyterlab-server<3,>=2.27.1->notebook->jupyter) (2.32.3)\n",
      "Requirement already satisfied: fastjsonschema>=2.15 in ./myvenv/lib/python3.12/site-packages (from nbformat>=5.7->nbconvert->jupyter) (2.19.1)\n",
      "Requirement already satisfied: wcwidth in ./myvenv/lib/python3.12/site-packages (from prompt-toolkit>=3.0.30->jupyter-console->jupyter) (0.2.13)\n",
      "Requirement already satisfied: soupsieve>1.2 in ./myvenv/lib/python3.12/site-packages (from beautifulsoup4->nbconvert->jupyter) (2.5)\n",
      "Requirement already satisfied: idna>=2.8 in ./myvenv/lib/python3.12/site-packages (from anyio>=3.1.0->jupyter-server<3,>=2.4.0->notebook->jupyter) (3.7)\n",
      "Requirement already satisfied: sniffio>=1.1 in ./myvenv/lib/python3.12/site-packages (from anyio>=3.1.0->jupyter-server<3,>=2.4.0->notebook->jupyter) (1.3.1)\n",
      "Requirement already satisfied: argon2-cffi-bindings in ./myvenv/lib/python3.12/site-packages (from argon2-cffi>=21.1->jupyter-server<3,>=2.4.0->notebook->jupyter) (21.2.0)\n",
      "Requirement already satisfied: certifi in ./myvenv/lib/python3.12/site-packages (from httpx>=0.25.0->jupyterlab<4.3,>=4.2.0->notebook->jupyter) (2024.2.2)\n",
      "Requirement already satisfied: httpcore==1.* in ./myvenv/lib/python3.12/site-packages (from httpx>=0.25.0->jupyterlab<4.3,>=4.2.0->notebook->jupyter) (1.0.5)\n",
      "Requirement already satisfied: h11<0.15,>=0.13 in ./myvenv/lib/python3.12/site-packages (from httpcore==1.*->httpx>=0.25.0->jupyterlab<4.3,>=4.2.0->notebook->jupyter) (0.14.0)\n",
      "Requirement already satisfied: parso<0.9.0,>=0.8.3 in ./myvenv/lib/python3.12/site-packages (from jedi>=0.16->ipython>=7.23.1->ipykernel->jupyter) (0.8.4)\n",
      "Requirement already satisfied: attrs>=22.2.0 in ./myvenv/lib/python3.12/site-packages (from jsonschema>=4.18.0->jupyterlab-server<3,>=2.27.1->notebook->jupyter) (23.2.0)\n",
      "Requirement already satisfied: jsonschema-specifications>=2023.03.6 in ./myvenv/lib/python3.12/site-packages (from jsonschema>=4.18.0->jupyterlab-server<3,>=2.27.1->notebook->jupyter) (2023.12.1)\n",
      "Requirement already satisfied: referencing>=0.28.4 in ./myvenv/lib/python3.12/site-packages (from jsonschema>=4.18.0->jupyterlab-server<3,>=2.27.1->notebook->jupyter) (0.35.1)\n",
      "Requirement already satisfied: rpds-py>=0.7.1 in ./myvenv/lib/python3.12/site-packages (from jsonschema>=4.18.0->jupyterlab-server<3,>=2.27.1->notebook->jupyter) (0.18.1)\n",
      "Requirement already satisfied: python-json-logger>=2.0.4 in ./myvenv/lib/python3.12/site-packages (from jupyter-events>=0.9.0->jupyter-server<3,>=2.4.0->notebook->jupyter) (2.0.7)\n",
      "Requirement already satisfied: pyyaml>=5.3 in ./myvenv/lib/python3.12/site-packages (from jupyter-events>=0.9.0->jupyter-server<3,>=2.4.0->notebook->jupyter) (6.0.1)\n",
      "Requirement already satisfied: rfc3339-validator in ./myvenv/lib/python3.12/site-packages (from jupyter-events>=0.9.0->jupyter-server<3,>=2.4.0->notebook->jupyter) (0.1.4)\n",
      "Requirement already satisfied: rfc3986-validator>=0.1.1 in ./myvenv/lib/python3.12/site-packages (from jupyter-events>=0.9.0->jupyter-server<3,>=2.4.0->notebook->jupyter) (0.1.1)\n",
      "Requirement already satisfied: ptyprocess>=0.5 in ./myvenv/lib/python3.12/site-packages (from pexpect>4.3->ipython>=7.23.1->ipykernel->jupyter) (0.7.0)\n",
      "Requirement already satisfied: charset-normalizer<4,>=2 in ./myvenv/lib/python3.12/site-packages (from requests>=2.31->jupyterlab-server<3,>=2.27.1->notebook->jupyter) (3.3.2)\n",
      "Requirement already satisfied: urllib3<3,>=1.21.1 in ./myvenv/lib/python3.12/site-packages (from requests>=2.31->jupyterlab-server<3,>=2.27.1->notebook->jupyter) (2.2.1)\n",
      "Requirement already satisfied: executing>=1.2.0 in ./myvenv/lib/python3.12/site-packages (from stack-data->ipython>=7.23.1->ipykernel->jupyter) (2.0.1)\n",
      "Requirement already satisfied: asttokens>=2.1.0 in ./myvenv/lib/python3.12/site-packages (from stack-data->ipython>=7.23.1->ipykernel->jupyter) (2.4.1)\n",
      "Requirement already satisfied: pure-eval in ./myvenv/lib/python3.12/site-packages (from stack-data->ipython>=7.23.1->ipykernel->jupyter) (0.2.2)\n",
      "Requirement already satisfied: fqdn in ./myvenv/lib/python3.12/site-packages (from jsonschema[format-nongpl]>=4.18.0->jupyter-events>=0.9.0->jupyter-server<3,>=2.4.0->notebook->jupyter) (1.5.1)\n",
      "Requirement already satisfied: isoduration in ./myvenv/lib/python3.12/site-packages (from jsonschema[format-nongpl]>=4.18.0->jupyter-events>=0.9.0->jupyter-server<3,>=2.4.0->notebook->jupyter) (20.11.0)\n",
      "Requirement already satisfied: jsonpointer>1.13 in ./myvenv/lib/python3.12/site-packages (from jsonschema[format-nongpl]>=4.18.0->jupyter-events>=0.9.0->jupyter-server<3,>=2.4.0->notebook->jupyter) (2.4)\n",
      "Requirement already satisfied: uri-template in ./myvenv/lib/python3.12/site-packages (from jsonschema[format-nongpl]>=4.18.0->jupyter-events>=0.9.0->jupyter-server<3,>=2.4.0->notebook->jupyter) (1.3.0)\n",
      "Requirement already satisfied: webcolors>=1.11 in ./myvenv/lib/python3.12/site-packages (from jsonschema[format-nongpl]>=4.18.0->jupyter-events>=0.9.0->jupyter-server<3,>=2.4.0->notebook->jupyter) (1.13)\n",
      "Requirement already satisfied: cffi>=1.0.1 in ./myvenv/lib/python3.12/site-packages (from argon2-cffi-bindings->argon2-cffi>=21.1->jupyter-server<3,>=2.4.0->notebook->jupyter) (1.16.0)\n",
      "Requirement already satisfied: pycparser in ./myvenv/lib/python3.12/site-packages (from cffi>=1.0.1->argon2-cffi-bindings->argon2-cffi>=21.1->jupyter-server<3,>=2.4.0->notebook->jupyter) (2.22)\n",
      "Requirement already satisfied: arrow>=0.15.0 in ./myvenv/lib/python3.12/site-packages (from isoduration->jsonschema[format-nongpl]>=4.18.0->jupyter-events>=0.9.0->jupyter-server<3,>=2.4.0->notebook->jupyter) (1.3.0)\n",
      "Requirement already satisfied: types-python-dateutil>=2.8.10 in ./myvenv/lib/python3.12/site-packages (from arrow>=0.15.0->isoduration->jsonschema[format-nongpl]>=4.18.0->jupyter-events>=0.9.0->jupyter-server<3,>=2.4.0->notebook->jupyter) (2.9.0.20240316)\n",
      "Requirement already satisfied: ipywidgets in ./myvenv/lib/python3.12/site-packages (8.1.3)\n",
      "Requirement already satisfied: comm>=0.1.3 in ./myvenv/lib/python3.12/site-packages (from ipywidgets) (0.2.2)\n",
      "Requirement already satisfied: ipython>=6.1.0 in ./myvenv/lib/python3.12/site-packages (from ipywidgets) (8.25.0)\n",
      "Requirement already satisfied: traitlets>=4.3.1 in ./myvenv/lib/python3.12/site-packages (from ipywidgets) (5.14.3)\n",
      "Requirement already satisfied: widgetsnbextension~=4.0.11 in ./myvenv/lib/python3.12/site-packages (from ipywidgets) (4.0.11)\n",
      "Requirement already satisfied: jupyterlab-widgets~=3.0.11 in ./myvenv/lib/python3.12/site-packages (from ipywidgets) (3.0.11)\n",
      "Requirement already satisfied: decorator in ./myvenv/lib/python3.12/site-packages (from ipython>=6.1.0->ipywidgets) (5.1.1)\n",
      "Requirement already satisfied: jedi>=0.16 in ./myvenv/lib/python3.12/site-packages (from ipython>=6.1.0->ipywidgets) (0.19.1)\n",
      "Requirement already satisfied: matplotlib-inline in ./myvenv/lib/python3.12/site-packages (from ipython>=6.1.0->ipywidgets) (0.1.7)\n",
      "Requirement already satisfied: prompt-toolkit<3.1.0,>=3.0.41 in ./myvenv/lib/python3.12/site-packages (from ipython>=6.1.0->ipywidgets) (3.0.45)\n",
      "Requirement already satisfied: pygments>=2.4.0 in ./myvenv/lib/python3.12/site-packages (from ipython>=6.1.0->ipywidgets) (2.18.0)\n",
      "Requirement already satisfied: stack-data in ./myvenv/lib/python3.12/site-packages (from ipython>=6.1.0->ipywidgets) (0.6.3)\n",
      "Requirement already satisfied: pexpect>4.3 in ./myvenv/lib/python3.12/site-packages (from ipython>=6.1.0->ipywidgets) (4.9.0)\n",
      "Requirement already satisfied: parso<0.9.0,>=0.8.3 in ./myvenv/lib/python3.12/site-packages (from jedi>=0.16->ipython>=6.1.0->ipywidgets) (0.8.4)\n",
      "Requirement already satisfied: ptyprocess>=0.5 in ./myvenv/lib/python3.12/site-packages (from pexpect>4.3->ipython>=6.1.0->ipywidgets) (0.7.0)\n",
      "Requirement already satisfied: wcwidth in ./myvenv/lib/python3.12/site-packages (from prompt-toolkit<3.1.0,>=3.0.41->ipython>=6.1.0->ipywidgets) (0.2.13)\n",
      "Requirement already satisfied: executing>=1.2.0 in ./myvenv/lib/python3.12/site-packages (from stack-data->ipython>=6.1.0->ipywidgets) (2.0.1)\n",
      "Requirement already satisfied: asttokens>=2.1.0 in ./myvenv/lib/python3.12/site-packages (from stack-data->ipython>=6.1.0->ipywidgets) (2.4.1)\n",
      "Requirement already satisfied: pure-eval in ./myvenv/lib/python3.12/site-packages (from stack-data->ipython>=6.1.0->ipywidgets) (0.2.2)\n",
      "Requirement already satisfied: six>=1.12.0 in ./myvenv/lib/python3.12/site-packages (from asttokens>=2.1.0->stack-data->ipython>=6.1.0->ipywidgets) (1.16.0)\n"
     ]
    }
   ],
   "source": [
    "import sys\n",
    "!{sys.executable} -m pip install transformers\n",
    "!{sys.executable} -m pip install torch\n",
    "!{sys.executable} -m pip install --upgrade jupyter\n",
    "!{sys.executable} -m pip install --upgrade ipywidgets"
   ]
  },
  {
   "cell_type": "markdown",
   "metadata": {},
   "source": [
    "Set up the basic environment for a humbert model (https://huggingface.co/docs/transformers/main/en/model_doc/xlm-roberta#transformers.XLMRobertaForMaskedLM) and include some useful modules"
   ]
  },
  {
   "cell_type": "code",
   "execution_count": 2,
   "metadata": {},
   "outputs": [],
   "source": [
    "import os\n",
    "import requests\n",
    "import json\n",
    "from transformers import pipeline\n",
    "\n",
    "# read my huggingface api token from a file into an environment variable\n",
    "#with open('/Users/tjordan/code/secrets/huggingface', 'r') as file:\n",
    "#    os.environ['HUGGINGFACE_API_TOKEN'] = file.read().replace('\\n', '')\n"
   ]
  },
  {
   "cell_type": "markdown",
   "metadata": {},
   "source": [
    "Retrieve some text that we can use to play around with summarization (example is from Brazil Floods 2024 on reliefweb)"
   ]
  },
  {
   "cell_type": "code",
   "execution_count": 3,
   "metadata": {},
   "outputs": [],
   "source": [
    "\n",
    "response = requests.get('https://api.reliefweb.int/v1/disasters/51859?appname=tom.jordan2@redcross.org')\n",
    "\n",
    "if response.status_code == 200:\n",
    "    response_data = response.json()\n",
    "else:\n",
    "    print('Error: ', response.status_code)"
   ]
  },
  {
   "cell_type": "markdown",
   "metadata": {},
   "source": [
    "Take a peek and make sure we got what we thought\n"
   ]
  },
  {
   "cell_type": "code",
   "execution_count": null,
   "metadata": {},
   "outputs": [],
   "source": [
    "\n",
    "# Print the response\n",
    "\n",
    "pretty_response = json.dumps(response_data, indent=4)\n",
    "print(pretty_response)"
   ]
  },
  {
   "cell_type": "markdown",
   "metadata": {},
   "source": [
    "Find the overview tag in the response"
   ]
  },
  {
   "cell_type": "code",
   "execution_count": 4,
   "metadata": {},
   "outputs": [
    {
     "name": "stdout",
     "output_type": "stream",
     "text": [
      "Heavy rainfall has been affecting south-eastern Brazil, in particular the Rio de Janeiro State over the last 48 hours, causing floods, flash floods and triggering landslides that have resulted in casualties and damage. Media report, as of 15 January, eleven fatalities and one person still missing across the Rio de Janeiro Metropolitan Region. In addition, media also report the flooding of the subway network. The state of emergency was declared by the local authority over the Rio de Janeiro City area. Over the next 48 hours, more heavy rainfall with locally very heavy rainfall is still forecast over the whole Rio de Janeiro State. ([ECHO, 15 Jan 2024](https://reliefweb.int/node/4029773))\n",
      "\n",
      "Since 26 January, heavy rainfall has been affecting Bahia State, in north-eastern Brazil, causing floods that have resulted in casualties and damage. According to local authorities and to the Pan American Health Organisation (PAHO), as of 30 January, four people died, of whom two in Castro Alves Municipality, other two in Aporá and Wanderley Municipalities respectively. At least 7,197 people have been displaced, the most affected Municipalities are Mutuípe, Medeiros Neto, Ilhéus, Muquém do São Francisco, Wanderley, and Cotegipe. A state of emergency has been declared for 14 Municipalities: Dário Meira, Cotegipe, Ilhéus, Medeiros Neto, Ibicuí, Anagé, Muquém de São Francisco, Iguaí, Quijingue, Wanderley, Jaguaquara, Ubaíra, Saubara and Milagres. ([ECHO, 31 Jan 2024](https://reliefweb.int/node/4034230))\n",
      "\n",
      "The toll of the floods continues to increase following the heavy rainfall that has been affecting Bahia State, central-eastern Brazil since 26 January. According to local authorities and the Pan American Health Organisation (PAHO), as of 5 February, six people died, 9,751 have been displaced and 117,000 others affected across 34 municipalities. In addition, 24 of the 34 affected municipalities are under an Emergency Situation decree. For the next 24 hours, moderate to locally heavy rainfall is forecast across the affected state. ([ECHO, 9 Feb 2024](https://reliefweb.int/node/4036851))\n",
      "\n",
      "Heavy rainfall has been affecting Amapá State in northern Brazil since 13 February, causing floods that have resulted in population displacement and damage. According to Pan American Health Organization (PAHO) reports, as of 16 February, at least 97 families have been evacuated in a shelter in Macapá Municipality in eastern Amapá State and several houses have been damaged due to floods. On 14 February a state of emergency was issued in the Macapá Municipality. Over the next 48 hours, more rainfall and isolated thunderstorms are expected over the southern Amapá State. ([ECHO, 16 Feb 2024](https://reliefweb.int/node/4038767))\n",
      "\n",
      "Following the heavy rainfall that has been affecting Brazil since 25 February, causing flooding and rivers overflow, the number of displaced people and damage are increasing. As of 29 February, the Pan American Health Organisation (PAHO) reported that the displaced people are 20,182, of whom 6,627 are sheltered across 70 shelters in Acre State, on the border with Peru and Bolivia. In addition, Brasileia Municipality is isolated due to the overflow of the Acre River. The state of emergency is declared for the following Municipalities: Assis Brasil, Brasileia, Capixaba, Cruzeiro do Sul, Epitaciolândia, Feijó, Jordão Mâncio Lima, Marechal Thaumaturgo, Plácido de Castro, Porto Walter, Rio Branco, Santa Rosa do Purus, Sena Madureira, Tarauacá, and Xapuri. Over the next 48 hours, more rainfall and isolated thunderstorms are still forecast over the Acre State. ([ECHO, 4 Mar 2024](https://reliefweb.int/node/4043252))\n",
      "\n",
      "The number of displaced people and damage continues to rise, following the heavy rainfall that has been affecting Acre State in western Brazil since 25 February, causing flooding and rivers overflow. As of 7 March, according to the Government of Acre and to WHO PAHO, a total of 28,855 people have been displaced, out of which 10,033 housed in 102 shelters across 14 municipalities. In addition, the overflow of the Juruá River has affected 19,694 people in Cruzeiro do Sul Municipality. ([ECHO, 8 Mar 2024](https://reliefweb.int/node/4044765))\n",
      "\n",
      "Following the heavy rainfall that has been affecting south-eastern Brazil, in particular the Espirito Santo State and Rio de Janeiro State, causing floods and triggering landslides, the number of casualties and severe damage is increasing. As of 26 March, according to media reports, 27 people died, of whom 19 fatalities in Espirito Santo State, at least six people are still missing and five people have been rescued. In addition, more than 7,000 people have been displaced throughout the Espirito Santo State. Over the next 48 hours, more rainfall with locally heavy rainfall is forecast over the Rio de Janeiro and the Espirito Santo States. ([ECHO, 26 Mar 2024](https://reliefweb.int/node/4049714))\n",
      "\n",
      "According to the Pan American Health Organization (PAHO), as of 3 April, at least 2,323 people have been displaced due to heavy rainfall in Maranhão State. At least 13 Municipalities have declared a state of emergency: Formosa da Serra Negra, São Roberto, São João do Sóter, Tuntum, Monção, Pindaré-Mirim, Conceição do Lago Açu, Lago da Pedra, Lagoa Grande do Maranhão, Carutapera, Governador Nunes Freire, Boa Vista do Gurupi, and Trizidela do Vale. Over the next 48 hours, more rainfall is forecast over Maranhão State, with locally very heavy rainfall. ([ECHO, 04 Apr 2024](https://reliefweb.int/node/4052148))\n",
      "\n",
      "Heavy rainfall has been affecting south-eastern Brazil (Santa Catarina State) over the last few days, causing floods and landslides that have resulted in population displacement and damage. According to media, as of 15 April, at least 85 people have been displaced, of whom 11 have been sheltered in an evacuation centre due to floods. In addition, the BR-101 highway has been blocked and several roads have been flooded. Over the next 24 hours more heavy rainfall is still forecasted over southern Brazil. ([ECHO, 18 Apr 2024](https://reliefweb.int/node/4055641))\n",
      "\n",
      "On 2 May 2024, the Government of the state of Rio Grande do Sul, Brazil, published updated information on the heavy rains affecting 147 municipalities of the state (40 increase since the 1 May report). In Rio Grande do Sul, there were 67,860 people affected (48,750 increase), 12 people were reported as injured (1 increase), and a total of 13 deaths have been reported (3 increase). In addition, there were 72,459 people displaced (67,448 increase), of which, 4,599 are in shelters (3,527 increase). ([PAHO, 2 May 2024](https://reliefweb.int/node/4059690))\n",
      "\n",
      "Rio Grande do Sul state (southernmost Brazil) is still experiencing heavy rainfall that is causing floods and landslides, leading to an increasing number of casualties and damage. According to the Civil Defense of Rio Grande do Sul, 78 people have been confirmed dead, 105 others are still missing and 175 have been injured. Moreover, 18,847 people have been sheltered, almost 116,000 displaced, and 844,673 affected across 341 municipalities. National authorities have rescued 1,000 people through rescue and emergency operations, as reported by the Civil Defense of Rio Grande do Sul. The Copernicus Emergency Management Service (EMSR720) was activated in rapid mapping mode on 3 May to provide flood extent and damage assessment, and five maps have been produced so far. ([ECHO, 6 May 2024.](https://reliefweb.int/node/4060055/))\n",
      "\n",
      "The number of casualties and the damage are still increasing following the heavy rainfall that has been affecting the Rio Grande do Sul state since early May, causing floods and triggering landslides and mudslides. The Civil Defense of Rio Grande do Sul reports, as of 16 May, 151 fatalities, 104 people still missing, 806 injured people, nearly 540,200 displaced people - of which around 77,200 evacuated in several shelters - and a total of approximately 2,282,000 affected people across 461 municipalities throughout the state. The same source reports over 76,600 rescued people across the affected municipalities. The Copernicus Emergency Management Service (EMSR720) was activated in rapid mapping mode on 3 May to provide the damage assessment, producing 17 maps so far. Over the next 72 hours, heavy rainfall with locally very heavy rainfall is still forecast over northern Rio Grande do Sul state. ([ECHO, 17 May 2024](https://reliefweb.int/node/4063155))\n"
     ]
    }
   ],
   "source": [
    "overview = response_data['data'][0]['fields']['profile']['overview']\n",
    "print(overview)"
   ]
  },
  {
   "cell_type": "markdown",
   "metadata": {},
   "source": [
    "TODO: Explore some extraction models...NER (Named Entity Recognition) appears to be the thing we need to do to extract expected text (e.g. number killed, displaced, missing, etc) from an unstructured body of text. Common models for NER include "
   ]
  },
  {
   "cell_type": "code",
   "execution_count": 5,
   "metadata": {},
   "outputs": [
    {
     "data": {
      "text/plain": [
       "{'score': 0.748996376991272, 'start': 7762, 'end': 7765, 'answer': '151'}"
      ]
     },
     "execution_count": 5,
     "metadata": {},
     "output_type": "execute_result"
    }
   ],
   "source": [
    "qa_model = pipeline(\"question-answering\", model=\"distilbert-base-uncased-distilled-squad\")\n",
    "question = \"How many people were killed?\"\n",
    "qa_model(question = question, context = overview)"
   ]
  },
  {
   "cell_type": "code",
   "execution_count": 6,
   "metadata": {},
   "outputs": [
    {
     "data": {
      "text/plain": [
       "{'score': 0.9801026582717896, 'start': 1777, 'end': 1782, 'answer': '9,751'}"
      ]
     },
     "execution_count": 6,
     "metadata": {},
     "output_type": "execute_result"
    }
   ],
   "source": [
    "qa_model = pipeline(\"question-answering\", model=\"distilbert-base-uncased-distilled-squad\")\n",
    "question = \"How many people were injured?\"\n",
    "qa_model(question = question, context = overview)"
   ]
  },
  {
   "cell_type": "code",
   "execution_count": 7,
   "metadata": {},
   "outputs": [
    {
     "data": {
      "text/plain": [
       "{'score': 0.9791094064712524, 'start': 1777, 'end': 1782, 'answer': '9,751'}"
      ]
     },
     "execution_count": 7,
     "metadata": {},
     "output_type": "execute_result"
    }
   ],
   "source": [
    "qa_model = pipeline(\"question-answering\", model=\"distilbert-base-uncased-distilled-squad\")\n",
    "question = \"How many people were displaced?\"\n",
    "qa_model(question = question, context = overview)"
   ]
  },
  {
   "cell_type": "code",
   "execution_count": 10,
   "metadata": {},
   "outputs": [
    {
     "data": {
      "text/plain": [
       "{'score': 0.8315784931182861,\n",
       " 'start': 7942,\n",
       " 'end': 7951,\n",
       " 'answer': '2,282,000'}"
      ]
     },
     "execution_count": 10,
     "metadata": {},
     "output_type": "execute_result"
    }
   ],
   "source": [
    "qa_model = pipeline(\"question-answering\", model=\"distilbert-base-uncased-distilled-squad\") \n",
    "question = \"How many people are affected?\"\n",
    "qa_model(question = question, context = overview)"
   ]
  }
 ],
 "metadata": {
  "kernelspec": {
   "display_name": "myvenv",
   "language": "python",
   "name": "python3"
  },
  "language_info": {
   "codemirror_mode": {
    "name": "ipython",
    "version": 3
   },
   "file_extension": ".py",
   "mimetype": "text/x-python",
   "name": "python",
   "nbconvert_exporter": "python",
   "pygments_lexer": "ipython3",
   "version": "3.12.3"
  }
 },
 "nbformat": 4,
 "nbformat_minor": 2
}
